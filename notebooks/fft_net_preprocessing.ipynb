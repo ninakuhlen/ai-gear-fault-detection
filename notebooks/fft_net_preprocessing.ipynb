{
 "cells": [
  {
   "cell_type": "markdown",
   "metadata": {},
   "source": [
    "# **Projekt: Fehlererkennung in Getrieben**\n",
    "## **Netztyp 2: FFT-Net**\n",
    "\n",
    "\n",
    "Mey et al. (2020) untersuchten die automatisierte Erkennung von Unwuchten in rotierenden Wellen mithilfe von Maschinellem Lernen und veröffentlichten hierfür einen spezifischen Datensatz. In diesem Kontext entwickeln und analysieren sie vier Klassifizierungsalgorithmen: Convolutional Neural Network (CNN), Fully-Connected Neural Network (FCNN), Hidden Markov Model und Random Forest. Diese Algorithmen unterscheiden zwischen den Zuständen \"eine Unwucht liegt vor\" und \"keine Unwucht liegt vor\". Das FCNN erreicht hier, als die erfolgreichste Methode, eine Vorhersagegenauigkeit von 98,5 %. <br>\n",
    "Das vorliegende Projekt reproduziert zunächst das von Mey et al. beschriebene CNN. Auf Basis des FCNNs wird zudem ein Neuronales Netzwerk (NN) entwickelt, das eine Unterscheidung der im Datensatz angegebenen fünf Unwucht-Stufen leisten kann. Das CNN verarbeitet hierbei direkt Sensordaten. Für das FCNN überführt die Fast\n",
    "Fourier Transform (FFT) die Daten vorab in den Frequenzbereich. <br>\n",
    "Im Rahmen des Projektes sind so mehrere Python-Module entstanden. Der vollständige Code ist in einem GitHub-Repository (Kuhlen et al., 2024) verfügbar.\n",
    "\n",
    "<details>\n",
    "    <summary open><b>Abkürzungsverzeichnis</b></summary>\n",
    "\n",
    "> <br>\n",
    ">\n",
    "> | Abkürzung | Bedeutung |\n",
    "> |:----------|:----------|\n",
    "> | CNN | Convolutional Neural Network |\n",
    "> | CSV | Comma-Separated Values |\n",
    "> | DFT | Discrete Fourier-Transform, Diskrete Fourier-Transformation |\n",
    "> | FCNN | Fully Connected Neural Network |\n",
    "> | FFT | Fast Fourier Transform |\n",
    "> | IQR | Inter-Quantile Range, Interquantilabstand |\n",
    "> | NN | Neural Network, Neuronales Netzwerk |\n",
    "> | UUID | Universally Unique Identifier |\n",
    "> | YAML | Yet Another Markdown Language |\n",
    ">\n",
    "> <br>\n",
    "</details>\n",
    "\n",
    "\n",
    "### **Teil A: Preprocessing**\n",
    "\n",
    "Mey et al. (2020) beschreiben ausschließlich die wesentlichen Schritte der Datenaufbereitung, dem Preprocesing. Ihre Ausführungen werden um Funktionalitäten ergänzt. Deren Notwendigkeit ist an entsprechender Stelle begründet."
   ]
  },
  {
   "cell_type": "markdown",
   "metadata": {},
   "source": [
    "#### **Die Projektstruktur**\n",
    "Das FFT-Net gliedert sich in die zwei Jupyter Notebooks *fft_net_preprocessing.ipynb* und *fft_net.ipynb*. Die *fft_net_preprocessing.ipynb* umfasst den Download des Datensatzes und das eigentliche Preprocessing. Die aufbereiteten Daten greift die *fft_net.ipynb* auf. Sie erstellt, trainiert und bewertet das NN. Im Projekt finden sich diese Skripte im Ordner *working_dir/notebooks/*. Auf die Nennung des Working Directories *working_dir* wird in nachfolgenden Dateipfaden verzichtet. <br>\n",
    "Auf dem Pfad *src/* befinden sich die vier Python-Skripte *data_loading.py*, *input_preparation.py*, *model_construction.py*, und *visualization.py* und der Ordner *preprocessing/*. Jedes dieser Module umfasst Funktionen für einen spezifischen Prozessschritt hin zu einem funktionsfähigen NN. Sie sind im Folgenden in chronologischer Reihenfolge beschrieben. <br>\n",
    "Das Modul `data_loading` umfasst Funktionen zum Herunterladen des Kaggle-Datensatzes, sowie zum Laden und Speichern von Datensätzen aus der und in die Projekt-Ordnerstruktur. Im Modul `preprocessing` sind alle Funktionen für die Vorverarbeitung der Daten enthalten. Die Vorbereitung der vom Preprocessing aufbereiteten Daten auf die Eingabe in das Neuronale Netz übernehmen Funktionen aus der `input_preparation`. Das eigentliche NN konstruiert der Constructor aus der `model_construction`. Hier sind zudem weitere Funktionen mit Bezug auf die Architektur und Performance des NNs abgelegt. Das Modul `visualization` bietet Funktionen zur Visualisierung von Daten über den gesamten Prozess."
   ]
  },
  {
   "cell_type": "code",
   "execution_count": null,
   "metadata": {},
   "outputs": [],
   "source": [
    "# import libraries\n",
    "from uuid import uuid4\n",
    "import os\n",
    "from pathlib import Path\n",
    "\n",
    "# module imports from /src\n",
    "if Path.cwd().stem == \"notebooks\":\n",
    "    os.chdir( Path.cwd().parent)\n",
    "\n",
    "# custom modules\n",
    "import src.preprocessing as pre\n",
    "import src.data_loader as dl\n",
    "import src.visualization as vis"
   ]
  },
  {
   "cell_type": "markdown",
   "metadata": {},
   "source": [
    "Zu Beginn des Codes erlauben einige Booleans die Kontrolle des Prozessablaufs. Das Notebook erlaubt die Kontrolle der korrekten Funktionsweise über einen Testbetrieb, der mit der Boolean `TEST` aktiviert wird. Die Boolean `DOWNLOAD` aktiviert den (erneuten) Download des Kaggle Datensatzes. Ist die Visualisierung der Daten im Prozess nicht gewünscht, deaktiviert die Boolean `SHOW` die entsprechenden Funktionen. Über einen hier gesetzten `CONTROL_INDEX` erfolgt im Prozess die stichprobenartige Visualisierung der Daten. An dieser Stelle wird zudem ein Universally Unique Identifier (`UUID`) generiert, der bei der Speicherung der verarbeiteten Daten als Ordnername verwendet wird. <br>"
   ]
  },
  {
   "cell_type": "code",
   "execution_count": null,
   "metadata": {},
   "outputs": [],
   "source": [
    "# boolean values to control the program flow\n",
    "TESTING: bool = True\n",
    "DOWNLOAD: bool = False\n",
    "SHOW: bool = True\n",
    "\n",
    "# setup a single index for control of preprocessing steps\n",
    "CONTROL_INDEX: int = 4\n",
    "\n",
    "# generate a unique identifier for this run\n",
    "UUID: str = str(uuid4())\n",
    "print(f\"Current UUID:\\t{UUID}\")"
   ]
  },
  {
   "cell_type": "markdown",
   "metadata": {},
   "source": [
    "#### **Der Datensatz**\n",
    "\n",
    "Die Datenerfassung beschreiben Mey et al. (2020) wie folgt. Eine Welle wird von einem Gleichstrommotor angetrieben (vergl. Abb. 1). Sie ist in Richtung des freien Endes in einem Kugellager gelagert. In der Ebene des Kugellagers sitzen zwei Sensoren, die die Vibration der Welle in der Horizontalen und Vertikalen erfassen. Ein dritter Sensor sitzt oberhalb der Einspannung der Welle am Motor. Die Unwucht wird über eine Schwungscheibe am freien Wellenende in das System eingebracht. Auf dieser Scheibe können Schrauben auf verschiedenen Radien montiert werden. <br>\n",
    "Mey et al. erhöhten pro Messreihe ist die Eingangsspannung beginnend von einem Startwert in festen Intervallen bis ein Endwert erreicht wurde. Die jeweiligen Start- und Endwerte sowie die Intervallgrößen sind bei Mey et al. bzw. in der *data/raw/meta.yaml* nachzulesen. Jeder Spannungswert ist für 10 s gehalten worden. Die erzeugten Rotationsgeschwindigkeiten reichen von rund 630 RPM bis ca. 2330 RPM. <br>\n",
    "Jede Messreihe ist mit einer Sample Rate von 4096 Hz aufgezeichnet worden. Es wurden insgesamt vier Unwuchtstärken erzeugt. Als Referenz ist eine Messung ohne eingebrachte Unwucht aufgezeichnet worden. Neben den Messungwerten der drei Sensoren ist in jedem Datensatz der Verlauf der Spannung und der Drehzahl enthalten."
   ]
  },
  {
   "cell_type": "code",
   "execution_count": null,
   "metadata": {},
   "outputs": [],
   "source": [
    "if DOWNLOAD:\n",
    "    \n",
    "    # download full dataset from kaggle\n",
    "    dl.fetch_kaggle_dataset(dl.DATASET_ADDRESS)"
   ]
  },
  {
   "cell_type": "markdown",
   "metadata": {},
   "source": [
    "Sobald der Download des Datensatzes abgeschlossen ist, liegen die CSV Dateien auf dem Pfad *working_dir/data/raw/*. Auf diesem Pfad liegt derweil bereits eine YAML Datei, die Informationen zu den Aufnahmebedingungen jeder Messreihe enthält. Die Funktion `load_all_datasets()` greift auf den Dateipfad zu und erstellt aus allen CSV Dateien Pandas DataFrames. In deren `DataFrame.attrs` hinterlegt sie die korrespondierenden Informationen der YAML Datei."
   ]
  },
  {
   "cell_type": "code",
   "execution_count": null,
   "metadata": {},
   "outputs": [],
   "source": [
    "if not TESTING:\n",
    "    \n",
    "    # load data from folder and split in training and evaluation data\n",
    "    data_path = Path().cwd() / \"data\" / \"raw\"\n",
    "    development_data, evaluation_data = dl.load_all_datasets(data_path)\n",
    "    all_datasets = development_data + evaluation_data\n",
    "\n",
    "else:\n",
    "\n",
    "    # program testing set\n",
    "    test = dl.load_dataset(Path(\"./data/raw/3D.csv\"))"
   ]
  },
  {
   "cell_type": "code",
   "execution_count": null,
   "metadata": {},
   "outputs": [],
   "source": [
    "if SHOW:\n",
    "    if not TESTING:\n",
    "\n",
    "        for index, dataset in enumerate(all_datasets):\n",
    "            # visualize one random dataset for data validation\n",
    "            print(dataset.attrs[\"path\"])\n",
    "            vis.plot_columns_as_subplots(dataset, dataset.columns)\n",
    "\n",
    "    else:\n",
    "\n",
    "        # visualize the program testing set\n",
    "        vis.plot_columns_as_subplots(test, test.columns)"
   ]
  },
  {
   "cell_type": "markdown",
   "metadata": {},
   "source": [
    "#### **Die Datenaufbereitung**\n",
    "##### **Bereinigung der Daten**\n",
    "Jeder Datensatz zeigt zu Beginn der Sensordaten einen starken positiven Ausschlag. Die ersten rund 12.000 aufgezeichneten Spannungen liegen nicht auf dem Startwert, sondern betragen null. Thresholding entfernt zunächst alle Datenpunkte, die bei 0 V aufgezeichnet wurden. Die erneute Visualisierung der Daten zeigt, dass der positive Ausschlag der Sensordaten so nicht vollständig beseitigt ist. Daher verwirft das Programm weitere ca. 38.000 Zeilen. Damit folgt das Preprocessing den Ausführungen von Mey et al. (2020) und verwirft die ersten 50.000 Messpunkte."
   ]
  },
  {
   "cell_type": "code",
   "execution_count": null,
   "metadata": {},
   "outputs": [],
   "source": [
    "if not TESTING:\n",
    "\n",
    "    for index, dataset in enumerate(all_datasets):\n",
    "        pre.apply_threshold(\n",
    "            dataframe=dataset,\n",
    "            threshold=0,\n",
    "            column=\"V_in\",\n",
    "            mode=\"eq\",\n",
    "            copy=False,\n",
    "            reset_index=False,\n",
    "        )\n",
    "        dataset = pre.discard_data(\n",
    "            dataframe=dataset, start=None, end=50_000, reset_index=True\n",
    "        )\n",
    "\n",
    "else:\n",
    "\n",
    "    pre.apply_threshold(\n",
    "        dataframe=test,\n",
    "        threshold=0,\n",
    "        column=\"V_in\",\n",
    "        mode=\"eq\",\n",
    "        copy=False,\n",
    "        reset_index=False,\n",
    "    )\n",
    "    test = pre.discard_data(dataframe=test, start=None, end=50_000, reset_index=True)"
   ]
  },
  {
   "cell_type": "markdown",
   "metadata": {},
   "source": [
    "Anhand des Verlaufs der Eingangsspannung erfolgt die Zerlegung eines jeden DataFrames in die jeweiligen beiden Messzyklen. Als Schnittpunkte dienen hierbei die negativen Gradienten in den Spannungen. Bei diesem Prozess entstehen z. T. kurze Residualelemente, die für die weitere Bearbeitung entfernt werden. In den `DataFrame.attrs` wird dem Dateinamen eine Laufnummer mit vorangestelltem Unterstrich angehangen."
   ]
  },
  {
   "cell_type": "code",
   "execution_count": null,
   "metadata": {},
   "outputs": [],
   "source": [
    "if not TESTING:\n",
    "\n",
    "    measurement_cycles = []\n",
    "\n",
    "    for index, dataset in enumerate(all_datasets):\n",
    "        subsets = pre.split_by_gradient(\n",
    "            dataframe=dataset,\n",
    "            column=\"V_in\",\n",
    "            periods=1,\n",
    "            sign=-1,\n",
    "            min_length=50_000,\n",
    "            reset_index=True,\n",
    "        )\n",
    "        for subset in subsets:\n",
    "            measurement_cycles.append(subset)\n",
    "\n",
    "else:\n",
    "\n",
    "    test_measurement_cycles = pre.split_by_gradient(\n",
    "        dataframe=test,\n",
    "        column=\"V_in\",\n",
    "        periods=1,\n",
    "        sign=-1,\n",
    "        min_length=50_000,\n",
    "        reset_index=True,\n",
    "    )"
   ]
  },
  {
   "cell_type": "code",
   "execution_count": null,
   "metadata": {},
   "outputs": [],
   "source": [
    "if SHOW:\n",
    "    if not TESTING:\n",
    "\n",
    "        # visualize one random dataset for data validation\n",
    "        for dataset in measurement_cycles:\n",
    "            print(dataset.attrs[\"path\"])\n",
    "            vis.plot_columns_as_subplots(dataset,\n",
    "                                        dataset.columns)\n",
    "\n",
    "        \n",
    "    else:\n",
    "        for dataset in test_measurement_cycles:\n",
    "            # visualize the program testing set\n",
    "            print(dataset.attrs[\"path\"])\n",
    "            vis.plot_columns_as_subplots(dataset, dataset.columns)"
   ]
  },
  {
   "cell_type": "markdown",
   "metadata": {},
   "source": [
    "In den Messungen der Drehzahlen zeigen sich Ausreißer. Über eine lineare Regression mittels der `LinearRegression` aus dem Package Scikit-learn (Pedregosa et al., 2011) werden deren Positionen im Datensatz ermittelt und korrigiert. Als Korrekturwert dient der, von der `LinearRegression` ermittelte Soll-Wert. Die Modul-Funktion *clean_outliers()* erlaubt auch die Entfernung der Ausreißer."
   ]
  },
  {
   "cell_type": "code",
   "execution_count": null,
   "metadata": {},
   "outputs": [],
   "source": [
    "if not TESTING:\n",
    "\n",
    "    for index, dataset in enumerate(measurement_cycles):\n",
    "        # calculate fft frequencies and magnitudes alongside the median rpms\n",
    "        clean_data = pre.clean_outliers(\n",
    "            dataframe=dataset,\n",
    "            column_name=\"Measured_RPM\",\n",
    "            window_size=None,\n",
    "            std_multiplier=2,\n",
    "            discard=True,\n",
    "        )\n",
    "        measurement_cycles[index] = clean_data\n",
    "\n",
    "else:\n",
    "\n",
    "    for index, dataset in enumerate(test_measurement_cycles):\n",
    "        clean_data = pre.clean_outliers(\n",
    "            dataframe=dataset,\n",
    "            column_name=\"Measured_RPM\",\n",
    "            window_size=None,\n",
    "            std_multiplier=3,\n",
    "            discard=True,\n",
    "        )\n",
    "        test_measurement_cycles[index] = clean_data"
   ]
  },
  {
   "cell_type": "code",
   "execution_count": null,
   "metadata": {},
   "outputs": [],
   "source": [
    "if SHOW:\n",
    "    if not TESTING:\n",
    "\n",
    "        # visualize one random dataset for data validation\n",
    "        for dataset in measurement_cycles:\n",
    "            print(dataset.attrs[\"path\"])\n",
    "            vis.plot_columns_as_subplots(dataset,\n",
    "                                        dataset.columns)\n",
    "\n",
    "        \n",
    "    else:\n",
    "        for dataset in test_measurement_cycles:\n",
    "            # visualize the program testing set\n",
    "            print(dataset.attrs[\"path\"])\n",
    "            vis.plot_columns_as_subplots(dataset, dataset.columns)"
   ]
  },
  {
   "cell_type": "markdown",
   "metadata": {},
   "source": [
    "##### **Datentransformation**\n",
    "Das FCNN von Mey et al. verarbeitet die Sensordaten von Sensor Nr. 1. Diese werden vorab in den Frequenzraum überführt. Hierbei werden jeweils die Datenmenge einer Sekunde &mdash; $n=4096$ Messwerte &mdash; Fourier-transformiert und die jeweils 2048 physikalisch relevanten Fourier-Koeffizienten weiterverwendet (Mey et al., 2020, Abschnitt B). <br>\n",
    "NumPy (Harris et al., 2020) bietet zur Berechnung der positiven Frequenzanteile die Funktion `numpy.rfft()`, die in diesem Projekt implementiert ist. Sie löst die Diskrete Fourier-Transformation (DFT, Gleichung 1) für reelles Eingabesignal mit den Messwerten $a_m$. \n",
    "\n",
    "$$A_k = \\frac{1}{n} \\cdot \\sum^{n-1}_{m=0} a_m \\cdot e^{-2\\,\\pi\\,i\\,\\frac{m\\,k}{n}} \\qquad \\text{mit} \\quad k = 0,~\\dots,~n-1 \\qquad \\qquad (1)$$\n",
    "\n",
    "Pro Sekunde des ursprünglichen Datensatzes gibt die `numpy.rfft()` 2049 reellwertige Fourier-Koeffizienten $A_k$. Das erste Element bildet den sog. \"Zero Frequency Term\", die Summe des gesamten Signals. Dieser Term wird verworfen. Die übrigen 2048 Werte bilden die Eingabe für das NN. <br>\n",
    "Das gesamte Eingangssignal wird Fourier-transformiert, wobei sich die Fenster nicht überlagern. Aufgrund der Halbierung der Anzahl von Messwerten speichert ein neues Dataset die transformierten Daten. Für eine spätere Zuordnung wird mit derselben Fenstergröße der Median der Drehzahlen berechnet. Der neue Datensatz erhält eine Kopie der `DataFrame.attrs` des ursprünglichen Datensatzes. Den ursprünglichen Dateinamen ergänzt ein Suffix \"_fft\". Der Eintrag \"sample_rate\" wird auf 2048 Hz gesetzt."
   ]
  },
  {
   "cell_type": "code",
   "execution_count": null,
   "metadata": {},
   "outputs": [],
   "source": [
    "if not TESTING:\n",
    "\n",
    "    for index, dataset in enumerate(measurement_cycles):\n",
    "        # calculate fft frequencies and magnitudes alongside the median rpms\n",
    "        fft_dataset = pre.calculate_dft(\n",
    "            dataset,\n",
    "            column_name=[\"Vibration_1\", \"Vibration_2\", \"Vibration_3\"],\n",
    "            normalize=False,\n",
    "        )\n",
    "        rpms = pre.median(dataset, column=\"Measured_RPM\", stretch=True)\n",
    "        fft_dataset[\"rpm\"] = rpms[::2]\n",
    "        measurement_cycles[index] = fft_dataset\n",
    "\n",
    "else:\n",
    "    \n",
    "    for index, dataset in enumerate(test_measurement_cycles):\n",
    "        fft_data = pre.calculate_dft(dataset, column_name=\"Vibration_*\", normalize=False)\n",
    "        rpms = pre.median(dataset, column=\"Measured_RPM\", stretch=True)\n",
    "        fft_data[\"rpm\"] = rpms[::2]\n",
    "        test_measurement_cycles[index] = fft_data"
   ]
  },
  {
   "cell_type": "code",
   "execution_count": null,
   "metadata": {},
   "outputs": [],
   "source": [
    "if SHOW:\n",
    "    if not TESTING:\n",
    "\n",
    "        # describe one random dataset for data validation\n",
    "        display(measurement_cycles[CONTROL_INDEX].describe())\n",
    "        vis.plot_fft_spectrogram(data_frame=measurement_cycles[CONTROL_INDEX],\n",
    "                                    figsize=(14, 6))\n",
    "\n",
    "    else:\n",
    "        \n",
    "        # program testing set\n",
    "        for dataset in test_measurement_cycles:\n",
    "            display(dataset.describe())\n",
    "            vis.plot_fft_spectrogram(data_frame=dataset,\n",
    "                                    figsize=(14, 6))"
   ]
  },
  {
   "cell_type": "markdown",
   "metadata": {},
   "source": [
    "##### **Datenskalierung**\n",
    "Vor der Eingabe in das NN werden die Fourier-transformierten Daten skaliert. Mey et al. verwendeten hierfür \"Robust Scaling\" jeweils auf die Datenpunkte einer Sekunde. <br>\n",
    "Das Programm nutzt hierzu den `RobustScaler` der Library Scikit-learn (Pedregosa et al., 2011). Der `RobustScaler` skaliert die Gesamtheit der $p=2048$ Fourier-Koeffizienten eines Fensters $\\mathcal{A}$ mit einem Interquantilabstand (IRQ) zwischen dem 5%-Quantil $A_{0.05}$ und dem 95%-Quantil $A_{0.95}$ (vergl. Gl. 2).\n",
    "\n",
    "$$A^*_k = \\frac{A_k - \\text{median}~{\\mathcal{A}}}{A_{0.95} - A_{0.05}} \\qquad \\text{mit} \\qquad \\mathcal{A}=\\{A_0,~\\dots~A_k,~\\dots~A_{p-1}\\} \\qquad \\qquad (2)$$"
   ]
  },
  {
   "cell_type": "code",
   "execution_count": null,
   "metadata": {},
   "outputs": [],
   "source": [
    "if not TESTING:\n",
    "\n",
    "    for index, dataset in enumerate(measurement_cycles):\n",
    "        measurement_cycles[index] = pre.scale_robust(dataset, column_name=\"*magnitude*\")\n",
    "\n",
    "else:\n",
    "    for index, dataset in enumerate(test_measurement_cycles):\n",
    "        scaled_data = pre.scale_robust(dataset, column_name=\"*magnitude*\")\n",
    "        test_measurement_cycles[index] = scaled_data"
   ]
  },
  {
   "cell_type": "code",
   "execution_count": null,
   "metadata": {},
   "outputs": [],
   "source": [
    "if not TESTING:\n",
    "\n",
    "    # describe one random dataset for data validation\n",
    "    display(measurement_cycles[CONTROL_INDEX].describe())\n",
    "    vis.plot_fft_spectrogram(data_frame=measurement_cycles[CONTROL_INDEX],\n",
    "                                 figsize=(14, 6))\n",
    "\n",
    "else:\n",
    "    \n",
    "    # program testing set\n",
    "    for dataset in test_measurement_cycles:\n",
    "        display(dataset.describe())\n",
    "        vis.plot_fft_spectrogram(data_frame=dataset,\n",
    "                                 figsize=(14, 6))"
   ]
  },
  {
   "cell_type": "markdown",
   "metadata": {},
   "source": [
    "# WIP\n",
    "Werte, die außerhalb der IQR liegen, liegen in den robust skalierten Daten außerhalb des Wertebereichs [-1, 1]. Die Funktion `pre.clean_quantiles` setzt diese Werte auf den Wert des Quantils. "
   ]
  },
  {
   "cell_type": "code",
   "execution_count": null,
   "metadata": {},
   "outputs": [],
   "source": [
    "if not TESTING:\n",
    "\n",
    "    for index, dataset in enumerate(measurement_cycles):\n",
    "        measurement_cycles[index] = pre.clean_quantiles(\n",
    "            dataset,\n",
    "            column_name=\"*magnitude*\",\n",
    "            quantiles=(0.05, 0.95),\n",
    "            window_size=2048,\n",
    "            discard=False,\n",
    "        )\n",
    "\n",
    "else:\n",
    "    for index, dataset in enumerate(test_measurement_cycles):\n",
    "        test_measurement_cycles[index] = pre.clean_quantiles(\n",
    "            dataset,\n",
    "            column_name=\"*magnitude*\",\n",
    "            quantiles=(0.05, 0.95),\n",
    "            window_size=2048,\n",
    "            discard=False,\n",
    "        )"
   ]
  },
  {
   "cell_type": "markdown",
   "metadata": {},
   "source": [
    "Abschließend speichert die Funktion `save_dataset()` des Moduls `data_loading` die Datensätze in CSV-Dateien. Hierzu legt die Funktion im Ordner *data/* den Unterordner *processed/`UUID`* an. In diesem Ordner erstellt sie eine YAML-Datei, in der die `DataFrame.attrs` jedes im gleichen Ordner gespeicherten Datensatzes eingetragen werden."
   ]
  },
  {
   "cell_type": "code",
   "execution_count": null,
   "metadata": {},
   "outputs": [],
   "source": [
    "# saving the preprocessed data\n",
    "if not TESTING:\n",
    "\n",
    "    for dataset in measurement_cycles:\n",
    "        dl.save_dataset(dataset, uuid=UUID)\n",
    "\n",
    "else:\n",
    "    for dataset in test_measurement_cycles:\n",
    "        dl.save_dataset(dataset, uuid=UUID)\n"
   ]
  },
  {
   "cell_type": "markdown",
   "metadata": {},
   "source": [
    "#### **Quellen**\n",
    "\n",
    "##### **Literatur**\n",
    "Harris, C. R., Millman, K. J., Van der Walt, S. J., Gommers, R., Virtanen, P., Cournapeau, D., Wieser, E., Taylor, J., Berg, S., Smith, N. J., Kern, R., Picus, M., Hoyer, S., Van Kerkwijk, M. H., Brett, M., Haldane, A., Del Río, J. F., Wiebe, M., Peterson, P., . . . Oliphant, T. E. (2020). Array programming with NumPy. Nature, 585(7825), 357–362. https://doi.org/10.1038/s41586-020-2649-2\n",
    "\n",
    "Mey, O., Neudeck, W., Schneider, A. & Enge-Rosenblatt, O. (2020). Machine learning-based unbalance detection of a rotating shaft using vibration data. In 2020 25th IEEE International Conference on Emerging Technologies and Factory Automation (ETFA) (S. 1610–1617). IEEE. https://doi.org/10.1109/etfa46521.2020.9212000\n",
    "\n",
    "Pedregosa, F., Varoquaux, G., Gramfort, A., Michel, V., Thirion, B., Grisel, O., Blondel, M., Prettenhofer, P., Weiss, R., Dubourg, V., Vanderplas, J., Passos, A., Cournapeau, D., Brucher, M., Perrot, M. & Duchesnay, É. (2011). Scikit-learn: Machine Learning in Python. Journal Of Machine Learning Research, 12, 2825–2830. https://doi.org/10.5555/1953048.2078195\n",
    "\n",
    "##### **Online**\n",
    "Kuhlen, N., Beißner, L., Bergermann, T. & Wallrad, L. (2024). AI Gear Fault Detection (Version V1) [Computer Software]. https://github.com/ninakuhlen/ai-gear-fault-detection\n",
    "\n",
    "Mey, O., Neudeck, W., Schneider, A. & Enge-Rosenblatt, O. (2022, 23. Februar). Vibration Analysis on Rotating Shaft. Kaggle. Abgerufen am 20. Oktober 2024, von https://www.kaggle.com/datasets/jishnukoliyadan/vibration-analysis-on-rotating-shaft\n",
    "\n",
    "NumPy Developers. (o. D.). Discrete Fourier Transform (Numpy.FFT) — NUMPY v2.2 Manual. https://numpy.org/doc/stable/reference/routines.fft.html#module-numpy.fft\n",
    "\n",
    "Scikit-learn Developers. (o. D.). RobustScaler. Scikit-learn. https://scikit-learn.org/stable/modules/generated/sklearn.preprocessing.RobustScaler.html\n"
   ]
  }
 ],
 "metadata": {
  "kernelspec": {
   "display_name": ".venv",
   "language": "python",
   "name": "python3"
  },
  "language_info": {
   "codemirror_mode": {
    "name": "ipython",
    "version": 3
   },
   "file_extension": ".py",
   "mimetype": "text/x-python",
   "name": "python",
   "nbconvert_exporter": "python",
   "pygments_lexer": "ipython3",
   "version": "3.10.7"
  }
 },
 "nbformat": 4,
 "nbformat_minor": 2
}
